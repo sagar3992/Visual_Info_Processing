{
  "nbformat": 4,
  "nbformat_minor": 0,
  "metadata": {
    "colab": {
      "name": "VIP_A2-q1",
      "provenance": [],
      "collapsed_sections": []
    },
    "kernelspec": {
      "name": "python3",
      "display_name": "Python 3"
    }
  },
  "cells": [
    {
      "cell_type": "code",
      "metadata": {
        "id": "wOiYtu6v7BGZ",
        "colab_type": "code",
        "colab": {}
      },
      "source": [
        "import cv2\n",
        "import numpy as np"
      ],
      "execution_count": null,
      "outputs": []
    },
    {
      "cell_type": "code",
      "metadata": {
        "id": "x5Ene0h17tno",
        "colab_type": "code",
        "colab": {}
      },
      "source": [
        "img = cv2.imread(\"OneStopNoEnter1cor0249.bmp\",0)\n",
        "img2 = cv2.imread(\"OneStopNoEnter1cor0251.bmp\",0)\n",
        "img3 = cv2.imread(\"seq00.avi0426g.bmp\",0)\n",
        "img4 = cv2.imread(\"seq00.avi0428g.bmp\",0)"
      ],
      "execution_count": null,
      "outputs": []
    },
    {
      "cell_type": "code",
      "metadata": {
        "id": "B-pHcbKVFQN2",
        "colab_type": "code",
        "colab": {}
      },
      "source": [
        "def Find_threshold(img,threshold):\n",
        "    group1=[]\n",
        "    group2=[]\n",
        "    for i in img:\n",
        "        for j in i:\n",
        "            if j > threshold:\n",
        "                group2.append(j)\n",
        "            else:\n",
        "                group1.append(j)\n",
        "    avg1 = sum(group1)/len(group1)\n",
        "    avg2 = sum(group2)/len(group2)\n",
        "    new_threshold = (avg1+avg2)/2\n",
        "    #print(new_threshold)\n",
        "    if(new_threshold == threshold):\n",
        "        return new_threshold\n",
        "    return Find_threshold(img,new_threshold)"
      ],
      "execution_count": null,
      "outputs": []
    },
    {
      "cell_type": "code",
      "metadata": {
        "id": "7wLiQd-n_E9m",
        "colab_type": "code",
        "colab": {}
      },
      "source": [
        "def findEdges(img):\n",
        "    newImg = np.zeros((len(img),len(img[0])))\n",
        "    matrix_y = [[1,2,1],\n",
        "        [0,0,0],\n",
        "        [-1,-2,-1]]\n",
        "    matrix_x = [[1,0,-1],\n",
        "        [2,0,-2],\n",
        "        [1,0,-1]]\n",
        "    threshold = Find_threshold(img,0)\n",
        "    for x in range(0,(len(img)-1)):\n",
        "        for y in range(0,(len(img[0])-1)):\n",
        "            s= [[img[x-1][y-1],img[x][y-1],img[x+1][y-1]],\n",
        "                [img[x-1][y],img[x][y],img[x+1][y]],\n",
        "                [img[x-1][y+1],img[x][y+1],img[x+1][y+1]]]\n",
        "            # calculating gradient\n",
        "            gradient_x = calculateGradient(s,matrix_x)\n",
        "            gradient_y = calculateGradient(s,matrix_y)\n",
        "            #cumilative gradient\n",
        "            gradient = ((gradient_x **2)+(gradient_y**2))**0.5\n",
        "            if(gradient > threshold):\n",
        "                newImg[x][y] = 255\n",
        "    return newImg"
      ],
      "execution_count": null,
      "outputs": []
    },
    {
      "cell_type": "code",
      "metadata": {
        "id": "-_pyEapj_GXe",
        "colab_type": "code",
        "colab": {}
      },
      "source": [
        "def calculateGradient(matrix1,matrix2):\n",
        "    s=0\n",
        "    for x,y in zip(matrix1,matrix2):\n",
        "        for a,b in zip(x,y):\n",
        "            s = s+(a*b)\n",
        "    return s "
      ],
      "execution_count": null,
      "outputs": []
    },
    {
      "cell_type": "code",
      "metadata": {
        "id": "wBz_3lNpAN_-",
        "colab_type": "code",
        "colab": {}
      },
      "source": [
        "newImg1 = findEdges(img)\n",
        "newImg2 = findEdges(img2)\n",
        "newImg3 = findEdges(img3)\n",
        "newImg4 = findEdges(img4)"
      ],
      "execution_count": null,
      "outputs": []
    },
    {
      "cell_type": "code",
      "metadata": {
        "id": "HJAow7IhCU00",
        "colab_type": "code",
        "colab": {
          "base_uri": "https://localhost:8080/",
          "height": 34
        },
        "outputId": "54b524bb-1118-40e8-fd24-7f97bd1cb78c"
      },
      "source": [
        "cv2.imwrite(\"new1.jpg\",newImg1)\n",
        "cv2.imwrite(\"new2.jpg\",newImg2)\n",
        "cv2.imwrite(\"new3.jpg\",newImg3)\n",
        "cv2.imwrite(\"new4.jpg\",newImg4)"
      ],
      "execution_count": null,
      "outputs": [
        {
          "output_type": "execute_result",
          "data": {
            "text/plain": [
              "True"
            ]
          },
          "metadata": {
            "tags": []
          },
          "execution_count": 7
        }
      ]
    }
  ]
}