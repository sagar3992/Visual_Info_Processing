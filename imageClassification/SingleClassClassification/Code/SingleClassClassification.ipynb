{
  "nbformat": 4,
  "nbformat_minor": 0,
  "metadata": {
    "colab": {
      "name": "VIP_A3_q1",
      "provenance": [],
      "collapsed_sections": []
    },
    "kernelspec": {
      "name": "python3",
      "display_name": "Python 3"
    }
  },
  "cells": [
    {
      "cell_type": "code",
      "metadata": {
        "id": "Gm99_wxfBzRr",
        "colab_type": "code",
        "colab": {}
      },
      "source": [
        "import numpy as np\n",
        "import cv2"
      ],
      "execution_count": null,
      "outputs": []
    },
    {
      "cell_type": "code",
      "metadata": {
        "id": "UoHq3A2QB166",
        "colab_type": "code",
        "colab": {}
      },
      "source": [
        "def common_data(list1,list2):\n",
        "    if list2 == []:\n",
        "        return -1,-1 # add all\n",
        "    if list1 in list2:\n",
        "        return -2,-2\n",
        "    m=list1[0]\n",
        "    n=list1[1]\n",
        "    i,j=0,0\n",
        "    for i in range(0,len(list2)):\n",
        "        if(m in list2[i]):\n",
        "            if(n in list2[i]):\n",
        "                return -2,-2 # no action\n",
        "            else:\n",
        "                return n,i\n",
        "        if(n in list2[i]):\n",
        "            if(m in list2[i]):\n",
        "                return -2,-2\n",
        "            else:\n",
        "                return m,i\n",
        "    return -1,-1"
      ],
      "execution_count": null,
      "outputs": []
    },
    {
      "cell_type": "code",
      "metadata": {
        "id": "lHWk3VAFB3ug",
        "colab_type": "code",
        "colab": {}
      },
      "source": [
        "def find_connected_components(img):\n",
        "    connected=[]\n",
        "    temp=[]\n",
        "    pixel=0\n",
        "    m,n = img.shape\n",
        "    for i in range(0,m):\n",
        "        new = False\n",
        "        for j in range(0,n):\n",
        "            if(img[i][j] == 255):\n",
        "                if(new == False):\n",
        "                    if(img[i-1][j] !=0):\n",
        "                        img[i][j] = img[i-1][j]\n",
        "                    else:\n",
        "                        pixel += 1\n",
        "                        img[i][j] = pixel\n",
        "                    new = True\n",
        "                else:\n",
        "                    img[i][j] = max(img[i][j-1],img[i-1][j])\n",
        "                    if(img[i][j-1]!=0 and img[i-1][j] !=0 and img[i][j-1] != img[i-1][j]):\n",
        "                        temp.append(img[i][j-1])\n",
        "                        temp.append(img[i-1][j])\n",
        "                        value,index = common_data(temp,connected)\n",
        "                        if value == -1:\n",
        "                            connected.append(temp)\n",
        "                        elif index > 0:\n",
        "                            connected[index].append(value)\n",
        "                        temp=[]\n",
        "            else:\n",
        "                new = False\n",
        "    return len(connected)"
      ],
      "execution_count": null,
      "outputs": []
    },
    {
      "cell_type": "code",
      "metadata": {
        "id": "Sj7e9-49Edtd",
        "colab_type": "code",
        "colab": {}
      },
      "source": [
        "def convert_image(img):\n",
        "    m,n,p = img.shape\n",
        "    newImg = np.zeros((m,n))\n",
        "    for i in range(0,m-1):\n",
        "        for j in range(0,n-1):\n",
        "            if(240>img[i][j][2]>200 and 230>img[i][j][1]>200 and 250>img[i][j][0]>220):\n",
        "                newImg[i][j] = 255\n",
        "    return newImg"
      ],
      "execution_count": null,
      "outputs": []
    },
    {
      "cell_type": "code",
      "metadata": {
        "id": "xtBsfo4f2A87",
        "colab_type": "code",
        "colab": {}
      },
      "source": [
        "def errosion(img,x,y,blockSize):\n",
        "    for j in range(0,blockSize):\n",
        "        for i in range(0,blockSize):\n",
        "            if(img[x+j][y+i] != 255):\n",
        "                return 0\n",
        "    return 255"
      ],
      "execution_count": null,
      "outputs": []
    },
    {
      "cell_type": "code",
      "metadata": {
        "id": "PxwVUjU62DVZ",
        "colab_type": "code",
        "colab": {}
      },
      "source": [
        "def dilation(img,x,y,blockSize):\n",
        "    for j in range(0,blockSize):\n",
        "        for i in range(0,blockSize):\n",
        "            if((x+j) < len(img) and (y+i) < len(img[0])):\n",
        "                if(img[x+j][y+i] == 255):\n",
        "                    return 255\n",
        "    return 0"
      ],
      "execution_count": null,
      "outputs": []
    },
    {
      "cell_type": "code",
      "metadata": {
        "id": "2VXPCwOu2GTr",
        "colab_type": "code",
        "colab": {}
      },
      "source": [
        "def apply_morphologicalOperation(img, blockSize,operation):\n",
        "    m,n = img.shape\n",
        "    newImg = np.zeros((m,n))\n",
        "    for i in range(0,m-1):\n",
        "        for j in range(0,n-1):\n",
        "            if(operation == \"errosion\"):\n",
        "                newImg[i][j] = errosion(img,i,j,blockSize)\n",
        "            if(operation == \"dilation\"):\n",
        "                newImg[i][j] = dilation(img,i,j,blockSize)\n",
        "    return newImg"
      ],
      "execution_count": null,
      "outputs": []
    },
    {
      "cell_type": "code",
      "metadata": {
        "id": "yHWswVKLkwdW",
        "colab_type": "code",
        "colab": {}
      },
      "source": [
        "def Find_threshold(img,threshold):\n",
        "    group1=[]\n",
        "    group2=[]\n",
        "    for i in img:\n",
        "        for j in i:\n",
        "            if j > threshold:\n",
        "                group2.append(j)\n",
        "            else:\n",
        "                group1.append(j)\n",
        "    avg1 = sum(group1)/len(group1)\n",
        "    avg2 = sum(group2)/len(group2)\n",
        "    new_threshold = (avg1+avg2)/2\n",
        "    #print(new_threshold)\n",
        "    if(new_threshold == threshold):\n",
        "        return new_threshold\n",
        "    return Find_threshold(img,new_threshold)"
      ],
      "execution_count": null,
      "outputs": []
    },
    {
      "cell_type": "code",
      "metadata": {
        "id": "YBAGglT8kcbx",
        "colab_type": "code",
        "colab": {}
      },
      "source": [
        "def findEdges(img):\n",
        "    newImg = np.zeros((len(img),len(img[0])))\n",
        "    matrix_y = [[1,2,1],\n",
        "        [0,0,0],\n",
        "        [-1,-2,-1]]\n",
        "    matrix_x = [[1,0,-1],\n",
        "        [2,0,-2],\n",
        "        [1,0,-1]]\n",
        "    threshold = Find_threshold(img,0)\n",
        "    for x in range(0,(len(img)-1)):\n",
        "        for y in range(0,(len(img[0])-1)):\n",
        "            s= [[img[x-1][y-1],img[x][y-1],img[x+1][y-1]],\n",
        "                [img[x-1][y],img[x][y],img[x+1][y]],\n",
        "                [img[x-1][y+1],img[x][y+1],img[x+1][y+1]]]\n",
        "            gradient_x = calculateGradient(s,matrix_x)\n",
        "            gradient_y = calculateGradient(s,matrix_y)\n",
        "            gradient = ((gradient_x **2)+(gradient_y**2))**0.5\n",
        "            if(gradient > threshold):\n",
        "                newImg[x][y] = 255\n",
        "    return newImg"
      ],
      "execution_count": null,
      "outputs": []
    },
    {
      "cell_type": "code",
      "metadata": {
        "id": "uUdhgV8sljmI",
        "colab_type": "code",
        "colab": {}
      },
      "source": [
        "def calculateGradient(matrix1,matrix2):\n",
        "    s=0\n",
        "    for x,y in zip(matrix1,matrix2):\n",
        "        for a,b in zip(x,y):\n",
        "            s = s+(a*b)\n",
        "    return s"
      ],
      "execution_count": null,
      "outputs": []
    },
    {
      "cell_type": "code",
      "metadata": {
        "id": "FSaaDtKDlvjN",
        "colab_type": "code",
        "colab": {}
      },
      "source": [
        "def labelImg(img,edgedImg):\n",
        "    m,n = edgedImg.shape\n",
        "    for i in range(0,m-1):\n",
        "        for j in range(0,n-1):\n",
        "            if(edgedImg[i][j] == 255):\n",
        "                img[i][j] = 0\n",
        "    return img"
      ],
      "execution_count": null,
      "outputs": []
    },
    {
      "cell_type": "code",
      "metadata": {
        "id": "DyEkgjb9Cg8I",
        "colab_type": "code",
        "colab": {
          "base_uri": "https://localhost:8080/",
          "height": 34
        },
        "outputId": "6f8a8ddf-5fcf-4f82-908f-fd75e2b09d42"
      },
      "source": [
        "img = cv2.imread(\"Picture3-small.bmp\")\n",
        "abnormal_cells = convert_image(np.copy(img))\n",
        "errotedImg = apply_morphologicalOperation(abnormal_cells,4,\"errosion\")\n",
        "dilatedImg = apply_morphologicalOperation(errotedImg,5,\"dilation\")\n",
        "edgedImg = findEdges(np.copy(dilatedImg))\n",
        "labeledImg = labelImg(img,edgedImg)\n",
        "cv2.imwrite(\"labeledImg.jpg\",labeledImg)"
      ],
      "execution_count": null,
      "outputs": [
        {
          "output_type": "execute_result",
          "data": {
            "text/plain": [
              "True"
            ]
          },
          "metadata": {
            "tags": []
          },
          "execution_count": 17
        }
      ]
    },
    {
      "cell_type": "code",
      "metadata": {
        "id": "eCao9jkFH4l7",
        "colab_type": "code",
        "colab": {}
      },
      "source": [
        "components = find_connected_components(dilatedImg)"
      ],
      "execution_count": null,
      "outputs": []
    },
    {
      "cell_type": "code",
      "metadata": {
        "id": "yYtUKpOa4QFQ",
        "colab_type": "code",
        "colab": {
          "base_uri": "https://localhost:8080/",
          "height": 34
        },
        "outputId": "d1a8aa27-77fc-4be5-f94e-b52ee641cf6e"
      },
      "source": [
        "print(\"Number of abnormal cells is \"+str(components))"
      ],
      "execution_count": null,
      "outputs": [
        {
          "output_type": "stream",
          "text": [
            "Number of abnormal cells is 37\n"
          ],
          "name": "stdout"
        }
      ]
    }
  ]
}