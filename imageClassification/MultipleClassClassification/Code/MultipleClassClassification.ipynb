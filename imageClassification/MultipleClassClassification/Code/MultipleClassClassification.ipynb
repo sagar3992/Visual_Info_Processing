{
  "nbformat": 4,
  "nbformat_minor": 0,
  "metadata": {
    "colab": {
      "name": "VIP_A3_q2",
      "provenance": [],
      "collapsed_sections": []
    },
    "kernelspec": {
      "name": "python3",
      "display_name": "Python 3"
    }
  },
  "cells": [
    {
      "cell_type": "code",
      "metadata": {
        "id": "aBeEUG_crIwB",
        "colab_type": "code",
        "colab": {}
      },
      "source": [
        "import numpy as np\n",
        "import cv2\n",
        "import math"
      ],
      "execution_count": null,
      "outputs": []
    },
    {
      "cell_type": "code",
      "metadata": {
        "id": "JhXrynbbtvwe",
        "colab_type": "code",
        "colab": {}
      },
      "source": [
        "img = cv2.imread(\"Picture4-small_parial.bmp\",0)"
      ],
      "execution_count": null,
      "outputs": []
    },
    {
      "cell_type": "code",
      "metadata": {
        "id": "o5IXzbGGt_YH",
        "colab_type": "code",
        "colab": {}
      },
      "source": [
        "def ClassifyImage(img,ClassA,ClassB,ClassC,blockSize,jumpSize):\n",
        "    m,n = img.shape\n",
        "    newImgA = np.copy(img)\n",
        "    newImgB = np.copy(img)\n",
        "    newImgC = np.copy(img)\n",
        "    scoreA=0\n",
        "    scoreB=0\n",
        "    scoreC=0\n",
        "    for i in range(0,m-int(blockSize/2),jumpSize):\n",
        "        for j in range(0,n-int(blockSize/2),jumpSize):\n",
        "            block = createBlocks(img,i,j,blockSize)\n",
        "            if(compare(block,ClassA) > 80):\n",
        "                scoreA+=1\n",
        "                newImgA = createBoundingBox(newImgA,i,j,blockSize)\n",
        "            if(compare(block,ClassB) > 75):\n",
        "                scoreB+=1\n",
        "                newImgB = createBoundingBox(newImgB,i,j,blockSize)\n",
        "            if(compare(block,ClassC) > 80):\n",
        "                scoreC+=1\n",
        "                newImgC = createBoundingBox(newImgC,i,j,blockSize)\n",
        "    cv2.imwrite(\"newImgA.jpg\",newImgA)\n",
        "    cv2.imwrite(\"newImgB.jpg\",newImgB)\n",
        "    cv2.imwrite(\"newImgC.jpg\",newImgC)           \n",
        "    print(scoreA,scoreB,scoreC)  "
      ],
      "execution_count": null,
      "outputs": []
    },
    {
      "cell_type": "code",
      "metadata": {
        "id": "mraPP0UGnbHu",
        "colab_type": "code",
        "colab": {}
      },
      "source": [
        "def createBoundingBox(img,x,y,blockSize):\n",
        "    if(x + blockSize > len(img)):\n",
        "        blockSize = len(img) - x -1\n",
        "    if(y + blockSize > len(img[0])):\n",
        "        blockSize = len(img[0]) - y -1\n",
        "    for i in range(x,x+blockSize):\n",
        "        img[i][y] = 0\n",
        "    for i in range(y,y+blockSize):\n",
        "        img[x][i] = 0\n",
        "    for i in range(x,x+blockSize):\n",
        "        img[i][y+blockSize] = 0\n",
        "    for i in range(y,y+blockSize):\n",
        "        img[x+blockSize][i] = 0\n",
        "    return img"
      ],
      "execution_count": null,
      "outputs": []
    },
    {
      "cell_type": "code",
      "metadata": {
        "id": "6F7XjSmx8jWS",
        "colab_type": "code",
        "colab": {}
      },
      "source": [
        "def createBlocks(img,x,y,blockSize):\n",
        "    blocks=[]\n",
        "    block=[]\n",
        "    for j in range(0,blockSize):\n",
        "        xblock=[]\n",
        "        for i in range(0,blockSize):\n",
        "            if(((x+j) < len(img)) and ((y+i) < len(img[0]))):\n",
        "                xblock.append(img[x+j][y+i])\n",
        "        block.append(xblock)\n",
        "    blocks.append(block)\n",
        "    return np.array(block)"
      ],
      "execution_count": null,
      "outputs": []
    },
    {
      "cell_type": "code",
      "metadata": {
        "id": "nQl8YjGNFp4n",
        "colab_type": "code",
        "colab": {}
      },
      "source": [
        "def createDCTMatrix(size):\n",
        "    matrix = np.zeros((size,size))\n",
        "    for i in range(0,len(matrix)):\n",
        "        for j in range(0,len(matrix[0])):\n",
        "            if(i == 0):\n",
        "                matrix[i][j] = (1/size) ** 0.5\n",
        "            else:\n",
        "                term = ((2*j)+1)*math.pi*i\n",
        "                term = term/(2*size)\n",
        "                matrix[i][j] = (((2/size) **0.5) * math.cos(term))\n",
        "    return matrix"
      ],
      "execution_count": null,
      "outputs": []
    },
    {
      "cell_type": "code",
      "metadata": {
        "id": "lrJ9ygN2-Y6N",
        "colab_type": "code",
        "colab": {}
      },
      "source": [
        "def compare(block1,block2):\n",
        "    #histogram Analysis\n",
        "    score = 0\n",
        "    error = 0\n",
        "    hist1 = make_dict_block(block1)\n",
        "    hist2 = make_dict_block(block2)\n",
        "    for i in hist1.keys():\n",
        "        if(i in hist2):\n",
        "            if((hist1[i]+15)>hist2[i]>(hist1[i]-15)):\n",
        "                score+=1\n",
        "            else:\n",
        "                error -=1\n",
        "        else:\n",
        "            error -=1\n",
        "    percentage1 = ((score + error) / (score - error)) *100\n",
        "    \n",
        "    #Sum of squared error\n",
        "    b1 = sumOfBlocks(block1)\n",
        "    b2 = sumOfBlocks(block2)\n",
        "    percentage2 = (max(b1,b2)/ min(b1,b2)) *100\n",
        "\n",
        "    #-----------------\n",
        "    percentage = (0.7 * percentage1) + (0.3 * percentage2)\n",
        "    return percentage\n"
      ],
      "execution_count": null,
      "outputs": []
    },
    {
      "cell_type": "code",
      "metadata": {
        "id": "2pvJbhNcFh4i",
        "colab_type": "code",
        "colab": {}
      },
      "source": [
        "def getMax(matrix, noOfPixel):\n",
        "    m = []\n",
        "    newMatrix = np.zeros((len(matrix),len(matrix[0])))\n",
        "    for i in range(0,len(matrix)):\n",
        "        for j in range(0,len(matrix[0])):\n",
        "            newMatrix[i][j] = abs(matrix[i][j])\n",
        "\n",
        "    while(len(m) != noOfPixel):\n",
        "        maximum=0\n",
        "        for i in range(0,len(matrix)):\n",
        "            for j in range(0,len(matrix[0])):\n",
        "                if(matrix[i][j] not in m):\n",
        "                    if(newMatrix[i][j]>maximum):\n",
        "                        maximum = matrix[i][j]\n",
        "        m.append(maximum)\n",
        "    return m "
      ],
      "execution_count": null,
      "outputs": []
    },
    {
      "cell_type": "code",
      "metadata": {
        "id": "3VZp2FW5UHCB",
        "colab_type": "code",
        "colab": {}
      },
      "source": [
        "def sumOfBlocks(block):\n",
        "    su = 0\n",
        "    for i in block:\n",
        "        for j in i:\n",
        "            su +=j\n",
        "    return su"
      ],
      "execution_count": null,
      "outputs": []
    },
    {
      "cell_type": "code",
      "metadata": {
        "id": "cJpOPvj5Dr-t",
        "colab_type": "code",
        "colab": {}
      },
      "source": [
        "def make_dict_block(arr):\n",
        "    d = dict()\n",
        "    for i in arr:\n",
        "        for j in i:\n",
        "            if(j not in d.keys()):\n",
        "                d[j] = 1\n",
        "            else:\n",
        "                d[j] +=1\n",
        "    return d"
      ],
      "execution_count": null,
      "outputs": []
    },
    {
      "cell_type": "code",
      "metadata": {
        "id": "PuFWmaKnFZrk",
        "colab_type": "code",
        "colab": {
          "base_uri": "https://localhost:8080/",
          "height": 34
        },
        "outputId": "ba7fb180-023d-48dd-f179-4f399fd0bdb7"
      },
      "source": [
        "ClassA = (np.array(createBlocks(img,285,230,80)))\n",
        "ClassB = (np.array(createBlocks(img,270,504,80)))\n",
        "ClassC = (np.array(createBlocks(img,200,400,80)))\n",
        "ClassifyImage(np.copy(img),ClassA,ClassB,ClassC,80,40)"
      ],
      "execution_count": null,
      "outputs": [
        {
          "output_type": "stream",
          "text": [
            "18 13 2\n"
          ],
          "name": "stdout"
        }
      ]
    },
    {
      "cell_type": "code",
      "metadata": {
        "id": "0ivPYyjL3Dgd",
        "colab_type": "code",
        "colab": {}
      },
      "source": [
        ""
      ],
      "execution_count": null,
      "outputs": []
    }
  ]
}