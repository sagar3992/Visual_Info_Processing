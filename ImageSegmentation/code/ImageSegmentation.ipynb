{
  "nbformat": 4,
  "nbformat_minor": 0,
  "metadata": {
    "colab": {
      "name": "VIP_A1q3",
      "provenance": [],
      "collapsed_sections": []
    },
    "kernelspec": {
      "name": "python3",
      "display_name": "Python 3"
    }
  },
  "cells": [
    {
      "cell_type": "code",
      "metadata": {
        "id": "ScwkXBDsq9gg",
        "colab_type": "code",
        "colab": {}
      },
      "source": [
        "import numpy as np\n",
        "import cv2\n",
        "import matplotlib.pyplot as plt\n"
      ],
      "execution_count": null,
      "outputs": []
    },
    {
      "cell_type": "code",
      "metadata": {
        "id": "Vr9oc6_rgz4-",
        "colab_type": "code",
        "colab": {}
      },
      "source": [
        "def Find_threshold(img,threshold):\n",
        "    group1=[]\n",
        "    group2=[]\n",
        "    for i in img:\n",
        "        for j in i:\n",
        "            if j > threshold:\n",
        "                group2.append(j)\n",
        "            else:\n",
        "                group1.append(j)\n",
        "    avg1 = sum(group1)/len(group1)\n",
        "    avg2 = sum(group2)/len(group2)\n",
        "    new_threshold = (avg1+avg2)/2\n",
        "    #print(new_threshold)\n",
        "    if(new_threshold == threshold):\n",
        "        return new_threshold\n",
        "    return Find_threshold(img,new_threshold)"
      ],
      "execution_count": null,
      "outputs": []
    },
    {
      "cell_type": "code",
      "metadata": {
        "id": "uhsiIN8SfjYU",
        "colab_type": "code",
        "colab": {}
      },
      "source": [
        "def convert_image(img):\n",
        "    # Binary image\n",
        "    m,n = img.shape\n",
        "    threshold = Find_threshold(img,10)\n",
        "    print(\"Threshold = \"+str(threshold))\n",
        "    for i in range(0,m-1):\n",
        "        for j in range(0,n-1):\n",
        "            if(img[i][j] > threshold):\n",
        "                img[i][j] = 255\n",
        "            else:\n",
        "                img[i][j] = 0\n",
        "    return img"
      ],
      "execution_count": null,
      "outputs": []
    },
    {
      "cell_type": "code",
      "metadata": {
        "id": "1s4hgiZGfjTG",
        "colab_type": "code",
        "colab": {}
      },
      "source": [
        "def find_connected_components(img):\n",
        "    connected=[]\n",
        "    temp=[]\n",
        "    pixel=0\n",
        "    m,n = img.shape\n",
        "    for i in range(0,m):\n",
        "        new = False # new detects that its a new line of pixels\n",
        "        for j in range(0,n):\n",
        "            if(img[i][j] == 255): \n",
        "                if(new == False):\n",
        "                    if(img[i-1][j] !=0):\n",
        "                        img[i][j] = img[i-1][j]\n",
        "                    else:\n",
        "                        pixel += 1\n",
        "                        img[i][j] = pixel\n",
        "                    new = True\n",
        "                else:\n",
        "                    img[i][j] = max(img[i][j-1],img[i-1][j])\n",
        "                    if(img[i][j-1]!=0 and img[i-1][j] !=0 and img[i][j-1] != img[i-1][j]):\n",
        "                        temp.append(img[i][j-1])\n",
        "                        temp.append(img[i-1][j])\n",
        "                        # saving the pixels in the line in temp and appending it in connected\n",
        "                        value,index = common_data(temp,connected)\n",
        "                        if value == -1:\n",
        "                            connected.append(temp)\n",
        "                        elif index > 0:\n",
        "                            connected[index].append(value)\n",
        "                        temp=[]\n",
        "            else:\n",
        "                new = False\n",
        "\n",
        "    #set different colors for each part\n",
        "    pixel_part=255/len(connected) \n",
        "    count=0\n",
        "    for connected_list in connected:\n",
        "        pixel = pixel_part*count \n",
        "        count+=1\n",
        "        for i in range(0,m):\n",
        "            for j in range(0,n):\n",
        "                if(img[i][j] in connected_list):\n",
        "                    img[i][j] = pixel\n",
        "    return img\n"
      ],
      "execution_count": null,
      "outputs": []
    },
    {
      "cell_type": "code",
      "metadata": {
        "id": "Wg0vlhgh9FNr",
        "colab_type": "code",
        "colab": {}
      },
      "source": [
        "def common_data(list1,list2):\n",
        "    # common data detects if the list2 has the components in common so list1 and list2 should get merged\n",
        "    if list2 == []:\n",
        "        return -1,-1 # add all\n",
        "    if list1 in list2:\n",
        "        return -2,-2\n",
        "    m=list1[0]\n",
        "    n=list1[1]\n",
        "    i,j=0,0\n",
        "    for i in range(0,len(list2)):\n",
        "        if(m in list2[i]):\n",
        "            if(n in list2[i]):\n",
        "                return -2,-2 # no action\n",
        "            else:\n",
        "                return n,i\n",
        "        if(n in list2[i]):\n",
        "            if(m in list2[i]):\n",
        "                return -2,-2\n",
        "            else:\n",
        "                return m,i\n",
        "    return -1,-1"
      ],
      "execution_count": null,
      "outputs": []
    },
    {
      "cell_type": "code",
      "metadata": {
        "id": "Bg32fYEzfjP2",
        "colab_type": "code",
        "colab": {
          "base_uri": "https://localhost:8080/"
        },
        "outputId": "4e82a7f1-3a77-4d4c-8182-ff9485b2e1e7"
      },
      "source": [
        "img = cv2.imread('guide_8bits.bmp',0)\n",
        "n = convert_image(img)\n",
        "cv2.imwrite(\"binary_image.jpg\",n)\n",
        "m = find_connected_components(n)\n",
        "cv2.imwrite(\"converted_image.jpg\",m)"
      ],
      "execution_count": null,
      "outputs": [
        {
          "output_type": "stream",
          "text": [
            "Threshold = 68.82992950758161\n",
            "24\n"
          ],
          "name": "stdout"
        },
        {
          "output_type": "execute_result",
          "data": {
            "text/plain": [
              "True"
            ]
          },
          "metadata": {
            "tags": []
          },
          "execution_count": 6
        }
      ]
    },
    {
      "cell_type": "code",
      "metadata": {
        "id": "XH9EExUwfjL7",
        "colab_type": "code",
        "colab": {}
      },
      "source": [
        ""
      ],
      "execution_count": null,
      "outputs": []
    },
    {
      "cell_type": "code",
      "metadata": {
        "id": "sUbNBc20GCkO",
        "colab_type": "code",
        "colab": {}
      },
      "source": [
        ""
      ],
      "execution_count": null,
      "outputs": []
    },
    {
      "cell_type": "code",
      "metadata": {
        "id": "gssjCEvCszgt",
        "colab_type": "code",
        "colab": {}
      },
      "source": [
        ""
      ],
      "execution_count": null,
      "outputs": []
    }
  ]
}