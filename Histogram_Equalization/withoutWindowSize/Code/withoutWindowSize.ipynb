{
  "nbformat": 4,
  "nbformat_minor": 0,
  "metadata": {
    "colab": {
      "name": "VIP_A1q1.ipynb",
      "provenance": [],
      "collapsed_sections": []
    },
    "kernelspec": {
      "name": "python3",
      "display_name": "Python 3"
    }
  },
  "cells": [
    {
      "cell_type": "code",
      "metadata": {
        "id": "ScwkXBDsq9gg",
        "colab_type": "code",
        "colab": {}
      },
      "source": [
        "import cv2\n",
        "import matplotlib.pyplot as plt\n",
        "img = cv2.imread('guide_8bits.bmp',0)"
      ],
      "execution_count": null,
      "outputs": []
    },
    {
      "cell_type": "code",
      "metadata": {
        "id": "p2kIf6nsm4H2",
        "colab_type": "code",
        "colab": {}
      },
      "source": [
        "def rgb2gray(rgb):\n",
        "    return np.dot(rgb[...,:3], [0.299, 0.587, 0.144])\n",
        "def make_dict(arr):\n",
        "    d = dict()\n",
        "    for i in arr:\n",
        "        for j in i:\n",
        "            if(j not in d.keys()):\n",
        "                d[j] = 1\n",
        "            else:\n",
        "                d[j] +=1\n",
        "    return d\n",
        "def calculate_probability(d,sum_):\n",
        "    dic=dict()\n",
        "    for i in d.keys():\n",
        "        dic[i] = d[i] / sum_\n",
        "    return dic\n",
        "def calculate_cumilative_probability(d):\n",
        "    dic =dict()\n",
        "    sum_=0\n",
        "    for i in d.keys():\n",
        "        sum_ += d[i]\n",
        "        dic[i] =sum_\n",
        "    return dic\n",
        "def update_image(img,my_dict):\n",
        "    m,n = img.shape\n",
        "    for i in range(0,m-1):\n",
        "        for j in range(0,n-1):\n",
        "            img[i][j]= my_dict[img[i][j]]\n",
        "    return img"
      ],
      "execution_count": null,
      "outputs": []
    },
    {
      "cell_type": "code",
      "metadata": {
        "id": "dfMNRilWmsWR",
        "colab_type": "code",
        "colab": {
          "base_uri": "https://localhost:8080/",
          "height": 34
        },
        "outputId": "75a555d3-54ff-4e40-8010-34a0a00f18ff"
      },
      "source": [
        "#img = rgb2gray(img)\n",
        "d= make_dict(img)\n",
        "probability = calculate_probability(d,sum(d.values()))\n",
        "cum = calculate_cumilative_probability(probability)\n",
        "cum.update((x, round(y*255)) for x, y in cum.items())\n",
        "new_image = update_image(img,cum)\n",
        "cv2.imwrite(\"new_image.jpg\",new_image)"
      ],
      "execution_count": null,
      "outputs": [
        {
          "output_type": "execute_result",
          "data": {
            "text/plain": [
              "True"
            ]
          },
          "metadata": {
            "tags": []
          },
          "execution_count": 3
        }
      ]
    },
    {
      "cell_type": "code",
      "metadata": {
        "id": "YORWvcIouyES",
        "colab_type": "code",
        "colab": {
          "base_uri": "https://localhost:8080/",
          "height": 279
        },
        "outputId": "38b8a2b8-a2f6-419a-8d86-0009760658a9"
      },
      "source": [
        "x=[]\n",
        "y=[]\n",
        "sum=0\n",
        "for x1,y1 in d.items():\n",
        "    x.append(x1)\n",
        "    y.append(y1)\n",
        "plt.bar(x,y,align='center') # A bar chart\n",
        "plt.xlabel('Bins')\n",
        "plt.ylabel('Frequency')\n",
        "plt.savefig(\"Initial_graph.jpg\")"
      ],
      "execution_count": null,
      "outputs": [
        {
          "output_type": "display_data",
          "data": {
            "image/png": "[encoded data removed]",
            "text/plain": [
              "<Figure size 432x288 with 1 Axes>"
            ]
          },
          "metadata": {
            "tags": [],
            "needs_background": "light"
          }
        }
      ]
    },
    {
      "cell_type": "code",
      "metadata": {
        "id": "TE94wsimwF4-",
        "colab_type": "code",
        "colab": {
          "base_uri": "https://localhost:8080/",
          "height": 279
        },
        "outputId": "6c6f215a-7721-43b2-b095-fd6ad2779534"
      },
      "source": [
        "x=[]\n",
        "y=[]\n",
        "sum=0\n",
        "for x1,y1 in make_dict(new_image).items():\n",
        "    x.append(x1)\n",
        "    y.append(y1)\n",
        "plt.bar(x,y,align='center') # A bar chart\n",
        "plt.xlabel('Bins')\n",
        "plt.ylabel('Frequency')\n",
        "plt.savefig(\"FinalGraph.jpg\")"
      ],
      "execution_count": null,
      "outputs": [
        {
          "output_type": "display_data",
          "data": {
            "image/png": "[encoded data removed]",
            "text/plain": [
              "<Figure size 432x288 with 1 Axes>"
            ]
          },
          "metadata": {
            "tags": [],
            "needs_background": "light"
          }
        }
      ]
    }
  ]
}