{
  "nbformat": 4,
  "nbformat_minor": 0,
  "metadata": {
    "colab": {
      "name": "VIP_A1q2ipynb",
      "provenance": [],
      "collapsed_sections": []
    },
    "kernelspec": {
      "name": "python3",
      "display_name": "Python 3"
    }
  },
  "cells": [
    {
      "cell_type": "code",
      "metadata": {
        "id": "ScwkXBDsq9gg",
        "colab_type": "code",
        "colab": {}
      },
      "source": [
        "import numpy as np\n",
        "import cv2\n",
        "import matplotlib.pyplot as plt\n",
        "img = cv2.imread('guide_8bits.bmp',0)\n",
        "\n",
        "# Set Levels and Window Sizes manually .........\n",
        "level_adjustments=[50,100,150]\n",
        "Window_size=[30,100]"
      ],
      "execution_count": 1,
      "outputs": []
    },
    {
      "cell_type": "code",
      "metadata": {
        "id": "p2kIf6nsm4H2",
        "colab_type": "code",
        "colab": {}
      },
      "source": [
        "def rgb2gray(rgb):\n",
        "    return np.dot(rgb[...,:3], [0.299, 0.587, 0.144])"
      ],
      "execution_count": 2,
      "outputs": []
    },
    {
      "cell_type": "code",
      "metadata": {
        "id": "STyZlzh1U8Mz",
        "colab_type": "code",
        "colab": {}
      },
      "source": [
        "def make_dict(arr):\n",
        "    d = dict()\n",
        "    for i in arr:\n",
        "        for j in i:\n",
        "            if(j not in d.keys()):\n",
        "                d[j] = 1\n",
        "            else:\n",
        "                d[j] +=1\n",
        "    return d"
      ],
      "execution_count": 3,
      "outputs": []
    },
    {
      "cell_type": "code",
      "metadata": {
        "id": "IoH6TCgtU8Es",
        "colab_type": "code",
        "colab": {}
      },
      "source": [
        "def calculate_probability(d,sum_):\n",
        "    dic=dict()\n",
        "    for i in d.keys():\n",
        "        dic[i] = d[i] / sum_\n",
        "    return dic"
      ],
      "execution_count": 4,
      "outputs": []
    },
    {
      "cell_type": "code",
      "metadata": {
        "id": "cR9pu0pKVCqa",
        "colab_type": "code",
        "colab": {}
      },
      "source": [
        "def calculate_cumilative_probability(d):\n",
        "    dic =dict()\n",
        "    su=0\n",
        "    for i in d.keys():\n",
        "        su += d[i]\n",
        "        dic[i] =su\n",
        "    return dic"
      ],
      "execution_count": 5,
      "outputs": []
    },
    {
      "cell_type": "code",
      "metadata": {
        "id": "mnPQdFEUVFGm",
        "colab_type": "code",
        "colab": {}
      },
      "source": [
        "def update_image(img,my_dict,level,windowsize):\n",
        "    m,n = img.shape\n",
        "    for i in range(0,m-1):\n",
        "        for j in range(0,n-1):\n",
        "            if(img[i][j] > level and img[i][j] <= level+windowsize):\n",
        "                img[i][j]= my_dict[img[i][j]]\n",
        "    return img"
      ],
      "execution_count": 6,
      "outputs": []
    },
    {
      "cell_type": "code",
      "metadata": {
        "id": "dfMNRilWmsWR",
        "colab_type": "code",
        "colab": {
          "base_uri": "https://localhost:8080/",
          "height": 279
        },
        "outputId": "41706afe-e10d-4757-bf09-73a1c82a488c"
      },
      "source": [
        "count_of_pixels = make_dict(img)\n",
        "probability = calculate_probability(count_of_pixels,sum(count_of_pixels.values()))\n",
        "\n",
        "cumilative_probability = calculate_cumilative_probability(probability)\n",
        "\n",
        "cumilative_probability.update((x, round(y*255)) for x, y in cumilative_probability.items())\n",
        "\n",
        "for levels in level_adjustments:\n",
        "    for size in Window_size:\n",
        "        new_image = update_image(img,cumilative_probability,levels,size)\n",
        "        cv2.imwrite(\"new_image_level_\"+str(levels)+\"_windowSize_\"+str(size)+\".jpg\",new_image)\n",
        "        x=[]\n",
        "        y=[]\n",
        "        sum=0\n",
        "        for x1,y1 in make_dict(new_image).items():\n",
        "            x.append(x1)\n",
        "            y.append(y1)\n",
        "        plt.bar(x,y,align='center') # A bar chart\n",
        "        plt.xlabel('Bins')\n",
        "        plt.ylabel('Frequency')\n",
        "        plt.savefig(\"FinalGraph_level_\"+str(levels)+\"_windowSize_\"+str(size)+\".jpg\")"
      ],
      "execution_count": 7,
      "outputs": [
        {
          "output_type": "display_data",
          "data": {
            "image/png": "[encoded data removed]",
            "text/plain": [
              "<Figure size 432x288 with 1 Axes>"
            ]
          },
          "metadata": {
            "tags": [],
            "needs_background": "light"
          }
        }
      ]
    },
    {
      "cell_type": "code",
      "metadata": {
        "id": "YORWvcIouyES",
        "colab_type": "code",
        "colab": {
          "base_uri": "https://localhost:8080/",
          "height": 279
        },
        "outputId": "ad712e81-7864-4dcd-f218-dfc9d36a259c"
      },
      "source": [
        "x=[]\n",
        "y=[]\n",
        "sum=0\n",
        "for x1,y1 in count_of_pixels.items():\n",
        "    x.append(x1)\n",
        "    y.append(y1)\n",
        "plt.bar(x,y,align='center') # A bar chart\n",
        "plt.xlabel('Bins')\n",
        "plt.ylabel('Frequency')\n",
        "plt.savefig(\"Initial_graph.jpg\")"
      ],
      "execution_count": 8,
      "outputs": [
        {
          "output_type": "display_data",
          "data": {
            "image/png": "[encoded data removed]",
            "text/plain": [
              "<Figure size 432x288 with 1 Axes>"
            ]
          },
          "metadata": {
            "tags": [],
            "needs_background": "light"
          }
        }
      ]
    },
    {
      "cell_type": "code",
      "metadata": {
        "id": "IBmLHO_mXesd",
        "colab_type": "code",
        "colab": {}
      },
      "source": [
        ""
      ],
      "execution_count": 8,
      "outputs": []
    }
  ]
}