{
  "nbformat": 4,
  "nbformat_minor": 0,
  "metadata": {
    "colab": {
      "name": "StandardMethod",
      "provenance": [],
      "toc_visible": true
    },
    "kernelspec": {
      "name": "python3",
      "display_name": "Python 3"
    }
  },
  "cells": [
    {
      "cell_type": "code",
      "metadata": {
        "id": "rsDbFsyfQVnO",
        "colab_type": "code",
        "colab": {}
      },
      "source": [
        "import cv2\n",
        "import numpy as np\n",
        "import math"
      ],
      "execution_count": 1,
      "outputs": []
    },
    {
      "cell_type": "code",
      "metadata": {
        "id": "wmAjNlcJQW2j",
        "colab_type": "code",
        "colab": {}
      },
      "source": [
        "v1_f1 = cv2.imread(\"OneStopNoEnter1cor0249.bmp\",0)\n",
        "v1_f2 = cv2.imread(\"OneStopNoEnter1cor0251.bmp\",0)"
      ],
      "execution_count": 2,
      "outputs": []
    },
    {
      "cell_type": "markdown",
      "metadata": {
        "id": "aqRAS1VpQbW6",
        "colab_type": "text"
      },
      "source": [
        "Find the difference\n",
        "#### (Video frame) df1 = f1-f2"
      ]
    },
    {
      "cell_type": "code",
      "metadata": {
        "id": "jQkIG5FFQYxV",
        "colab_type": "code",
        "colab": {}
      },
      "source": [
        "def findDifference(img1,img2,blockSize):\n",
        "    newImg = np.zeros((len(img1),len(img1[0])))\n",
        "    for i in range(0,min(len(img2),len(img1))):\n",
        "        for j in range(0,min(len(img2[0]),len(img1[0]))):\n",
        "            difference = img1[i][j] - img2[i][j]\n",
        "            newImg[i][j] = difference\n",
        "    return newImg"
      ],
      "execution_count": 3,
      "outputs": []
    },
    {
      "cell_type": "code",
      "metadata": {
        "id": "jgk1OvbIQerV",
        "colab_type": "code",
        "colab": {
          "base_uri": "https://localhost:8080/",
          "height": 87
        },
        "outputId": "e3ee2960-ae70-4382-e325-26fe0c93b4f4"
      },
      "source": [
        "df1 = findDifference(v1_f1,v1_f2,8)\n",
        "cv2.imwrite(\"df1.jpg\",df1)"
      ],
      "execution_count": 4,
      "outputs": [
        {
          "output_type": "stream",
          "text": [
            "/usr/local/lib/python3.6/dist-packages/ipykernel_launcher.py:5: RuntimeWarning: overflow encountered in ubyte_scalars\n",
            "  \"\"\"\n"
          ],
          "name": "stderr"
        },
        {
          "output_type": "execute_result",
          "data": {
            "text/plain": [
              "True"
            ]
          },
          "metadata": {
            "tags": []
          },
          "execution_count": 4
        }
      ]
    },
    {
      "cell_type": "markdown",
      "metadata": {
        "id": "ab0v-dAGRF40",
        "colab_type": "text"
      },
      "source": [
        "### Question4 Find the DCT transformed images\n",
        "##### DCT_df1 = DCT(df1)\n"
      ]
    },
    {
      "cell_type": "code",
      "metadata": {
        "id": "iyv5tF0RQhgT",
        "colab_type": "code",
        "colab": {}
      },
      "source": [
        "def applyDCT(img,size,noOfPixel):\n",
        "    newImg = np.zeros((len(img),len(img[0])))\n",
        "    DCTMatrix = createDCTMatrix(size)\n",
        "    DCTMatrixTranspose = np.transpose(DCTMatrix)\n",
        "    for i in range(0,len(img),size):\n",
        "        for j in range(0,len(img[0]),size):\n",
        "            block = createBlocks(img,i,j,size)\n",
        "            DCTOutput = (np.matmul(DCTMatrixTranspose,np.matmul(block,DCTMatrix)))\n",
        "            for x,u in zip(range(i,i+size),DCTOutput):\n",
        "                for y,v in zip(range(j,j+size),u):\n",
        "                    newImg[x][y] = v\n",
        "    return newImg"
      ],
      "execution_count": 5,
      "outputs": []
    },
    {
      "cell_type": "code",
      "metadata": {
        "id": "x2ClNyIuRXzX",
        "colab_type": "code",
        "colab": {}
      },
      "source": [
        "def createBlocks(img,x,y,blockSize):\n",
        "    blocks=[]\n",
        "    block=[]\n",
        "    for j in range(0,blockSize):\n",
        "        xblock=[]\n",
        "        for i in range(0,blockSize):\n",
        "            if((x+j < len(img)) and (y+i < len(img[0]))):\n",
        "                xblock.append(img[x+j][y+i])\n",
        "        block.append(xblock)\n",
        "    blocks.append(block)\n",
        "    return block"
      ],
      "execution_count": 6,
      "outputs": []
    },
    {
      "cell_type": "code",
      "metadata": {
        "id": "flr2XmOVRaig",
        "colab_type": "code",
        "colab": {}
      },
      "source": [
        "def createDCTMatrix(size):\n",
        "    matrix = np.zeros((size,size))\n",
        "    for i in range(0,len(matrix)):\n",
        "        for j in range(0,len(matrix[0])):\n",
        "            if(i == 0):\n",
        "                matrix[i][j] = (1/size) ** 0.5\n",
        "            else:\n",
        "                term = ((2*j)+1)*math.pi*i\n",
        "                term = term/(2*size)\n",
        "                matrix[i][j] = (((2/size) **0.5) * math.cos(term))\n",
        "    return matrix"
      ],
      "execution_count": 7,
      "outputs": []
    },
    {
      "cell_type": "code",
      "metadata": {
        "id": "ouspgTAWRpC0",
        "colab_type": "code",
        "colab": {}
      },
      "source": [
        "DCT_df1 = applyDCT(df1,8,4)"
      ],
      "execution_count": 8,
      "outputs": []
    },
    {
      "cell_type": "markdown",
      "metadata": {
        "id": "W2BbwTycRiCv",
        "colab_type": "text"
      },
      "source": [
        "# Apply IDCT"
      ]
    },
    {
      "cell_type": "code",
      "metadata": {
        "id": "Kvas_PyTRg6u",
        "colab_type": "code",
        "colab": {}
      },
      "source": [
        "def applyIDCT(img,size):\n",
        "    newImg = np.zeros((len(img),len(img[0])))\n",
        "    DCTMatrix = createDCTMatrix(size)\n",
        "    DCTMatrixTranspose = np.transpose(DCTMatrix)\n",
        "    for i in range(0,len(img),size):\n",
        "        for j in range(0,len(img[0]),size):\n",
        "            block = createBlocks(img,i,j,size)\n",
        "            IDCTOutput = (np.matmul(DCTMatrix,np.matmul(block,DCTMatrixTranspose)))\n",
        "            for x,u in zip(range(i,i+size),IDCTOutput):\n",
        "                for y,v in zip(range(j,j+size),u):\n",
        "                        newImg[x][y] = v\n",
        "    return newImg"
      ],
      "execution_count": 9,
      "outputs": []
    },
    {
      "cell_type": "code",
      "metadata": {
        "id": "LTfcKW7YRzCT",
        "colab_type": "code",
        "colab": {
          "base_uri": "https://localhost:8080/",
          "height": 34
        },
        "outputId": "87c3e996-2877-467f-fc0a-7e24316efe6f"
      },
      "source": [
        "IDCT_df1 = applyIDCT(DCT_df1,8)\n",
        "cv2.imwrite(\"IDCT_df1.jpg\",IDCT_df1)"
      ],
      "execution_count": 10,
      "outputs": [
        {
          "output_type": "execute_result",
          "data": {
            "text/plain": [
              "True"
            ]
          },
          "metadata": {
            "tags": []
          },
          "execution_count": 10
        }
      ]
    },
    {
      "cell_type": "markdown",
      "metadata": {
        "id": "EIe1Q66kSlrf",
        "colab_type": "text"
      },
      "source": [
        "#Reconstruct the Image\n",
        "##### f2' = f1 + IDCT_df1"
      ]
    },
    {
      "cell_type": "code",
      "metadata": {
        "id": "3OADcbKbTAKl",
        "colab_type": "code",
        "colab": {}
      },
      "source": [
        "IDCT_df1 = cv2.imread(\"IDCT_df1.jpg\",0)"
      ],
      "execution_count": 11,
      "outputs": []
    },
    {
      "cell_type": "code",
      "metadata": {
        "id": "sxwUrieRSSLA",
        "colab_type": "code",
        "colab": {}
      },
      "source": [
        "def add(img1,img2):\n",
        "    newImg = np.zeros((len(img1),len(img1[0])))\n",
        "    for i in range(0,min(len(img2),len(img1))):\n",
        "        for j in range(0,min(len(img2[0]),len(img1[0]))):\n",
        "            addition = (img1[i][j] + img2[i][j])\n",
        "            if(addition > 0 ):\n",
        "                newImg[i][j] = addition\n",
        "            else:\n",
        "                newImg[i][j] = 0\n",
        "    return newImg"
      ],
      "execution_count": 12,
      "outputs": []
    },
    {
      "cell_type": "code",
      "metadata": {
        "id": "acgIXXt2StNO",
        "colab_type": "code",
        "colab": {
          "base_uri": "https://localhost:8080/",
          "height": 87
        },
        "outputId": "48b3573b-60ce-4511-a01a-9a62ecd7d1e4"
      },
      "source": [
        "f2_ = add(v1_f1,IDCT_df1)\n",
        "cv2.imwrite(\"f2'.jpg\",f2_)"
      ],
      "execution_count": 13,
      "outputs": [
        {
          "output_type": "stream",
          "text": [
            "/usr/local/lib/python3.6/dist-packages/ipykernel_launcher.py:5: RuntimeWarning: overflow encountered in ubyte_scalars\n",
            "  \"\"\"\n"
          ],
          "name": "stderr"
        },
        {
          "output_type": "execute_result",
          "data": {
            "text/plain": [
              "True"
            ]
          },
          "metadata": {
            "tags": []
          },
          "execution_count": 13
        }
      ]
    },
    {
      "cell_type": "code",
      "metadata": {
        "id": "1rAZ5eh2S3aL",
        "colab_type": "code",
        "colab": {}
      },
      "source": [
        ""
      ],
      "execution_count": 13,
      "outputs": []
    }
  ]
}