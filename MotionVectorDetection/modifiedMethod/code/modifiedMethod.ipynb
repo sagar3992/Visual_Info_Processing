{
  "nbformat": 4,
  "nbformat_minor": 0,
  "metadata": {
    "colab": {
      "name": "modifiedMethod",
      "provenance": [],
      "toc_visible": true
    },
    "kernelspec": {
      "name": "python3",
      "display_name": "Python 3"
    }
  },
  "cells": [
    {
      "cell_type": "code",
      "metadata": {
        "id": "lUVdcFuOQpjh",
        "colab_type": "code",
        "colab": {}
      },
      "source": [
        "import cv2\n",
        "import numpy as np\n",
        "import math"
      ],
      "execution_count": 1,
      "outputs": []
    },
    {
      "cell_type": "code",
      "metadata": {
        "id": "Z_bwIwy0QshJ",
        "colab_type": "code",
        "colab": {}
      },
      "source": [
        "v1_f1 = cv2.imread(\"OneStopNoEnter1cor0249.bmp\",0)\n",
        "v1_f2 = cv2.imread(\"OneStopNoEnter1cor0251.bmp\",0)"
      ],
      "execution_count": 2,
      "outputs": []
    },
    {
      "cell_type": "markdown",
      "metadata": {
        "id": "r0fzuoOwQvp6",
        "colab_type": "text"
      },
      "source": [
        "### Find the motion compensated difference image \n",
        "#### (Video frame ) mdf1 = determineMotionVector(f1,f2)"
      ]
    },
    {
      "cell_type": "code",
      "metadata": {
        "id": "HjEyVO-yQxs0",
        "colab_type": "code",
        "colab": {}
      },
      "source": [
        "def blockMatching(img1,img2,blockSize,searchSize):\n",
        "    searchSize = (int)((searchSize - blockSize)/2)\n",
        "    newImg = np.zeros((len(img1),len(img1[0])))\n",
        "    motionImage = np.zeros((len(img1),len(img1[0])))\n",
        "    for i in range(0,min(len(img1),len(img2)-1),blockSize):\n",
        "        for j in range(0,min(len(img1[0]),len(img2[0])-1),blockSize):\n",
        "            block1 = sumOfBlocks(img1,i,j,blockSize)\n",
        "            block2 = sumOfBlocks(img2,i,j,blockSize)\n",
        "            difference=[]\n",
        "            points = []\n",
        "            if(block1-block2 !=0):\n",
        "                for x in range(-searchSize,(searchSize+blockSize)):\n",
        "                    for y in range(-searchSize,(searchSize+blockSize)):\n",
        "                        block2 = sumOfBlocks(img2,i+x,j+y,blockSize)\n",
        "                        difference.append(abs((block1)- block2))\n",
        "                        points.append((i+x,j+y))\n",
        "                if(difference == []):\n",
        "                    pixel=0\n",
        "                else:\n",
        "                    temp = findMinimum(difference,points)\n",
        "                    pixel = temp[0]\n",
        "                    u = temp[1][0]\n",
        "                    v = temp[1][1]\n",
        "                    for m,x in zip(range(u,u+blockSize),range(i,i+blockSize)):\n",
        "                        for n,y in zip(range(v,v+blockSize),range(j,j+blockSize)):\n",
        "                            if(m<len(img1) and n<len(img1[0])):\n",
        "                                newImg[m][n] = pixel\n",
        "                                newImg[x][y] = pixel\n",
        "                           \n",
        "    return newImg"
      ],
      "execution_count": 3,
      "outputs": []
    },
    {
      "cell_type": "code",
      "metadata": {
        "id": "uQvvD_ykQ0k9",
        "colab_type": "code",
        "colab": {}
      },
      "source": [
        "def findMinimum(difference,points):\n",
        "    min = 2048888\n",
        "    for i in range(0,len(difference)):\n",
        "        if(min> difference[i]):\n",
        "            min=difference[i]\n",
        "            point=points[i]\n",
        "    #print(min)\n",
        "    return [min,point]"
      ],
      "execution_count": 4,
      "outputs": []
    },
    {
      "cell_type": "code",
      "metadata": {
        "id": "nZmGtJhiQ5ba",
        "colab_type": "code",
        "colab": {}
      },
      "source": [
        "def sumOfBlocks(img,x,y,blockSize):\n",
        "    sum_ = 0\n",
        "    for j in range(0,blockSize):\n",
        "        for i in range(0,blockSize):\n",
        "            if((x+j < len(img)) and (y+i < len(img[0]))):\n",
        "                sum_ += img[x+j][y+i]\n",
        "    return sum_"
      ],
      "execution_count": 5,
      "outputs": []
    },
    {
      "cell_type": "code",
      "metadata": {
        "id": "GATJ4-E1Q8zT",
        "colab_type": "code",
        "colab": {
          "base_uri": "https://localhost:8080/",
          "height": 34
        },
        "outputId": "08526f01-30db-4a57-8697-c0c1ac19d9a4"
      },
      "source": [
        "mdf1 = np.array(blockMatching(v1_f1,v1_f2,8,16))\n",
        "cv2.imwrite(\"mdf1.jpg\",mdf1)"
      ],
      "execution_count": 6,
      "outputs": [
        {
          "output_type": "execute_result",
          "data": {
            "text/plain": [
              "True"
            ]
          },
          "metadata": {
            "tags": []
          },
          "execution_count": 6
        }
      ]
    },
    {
      "cell_type": "markdown",
      "metadata": {
        "id": "RCFTG0gJRMRs",
        "colab_type": "text"
      },
      "source": [
        "### Question4 Find the DCT transformed images\n",
        "##### DCT_mdf1 = DCT(mdf1)\n"
      ]
    },
    {
      "cell_type": "code",
      "metadata": {
        "id": "63nDb3rxRAxD",
        "colab_type": "code",
        "colab": {}
      },
      "source": [
        "def applyDCT(img,size,noOfPixel):\n",
        "    newImg = np.zeros((len(img),len(img[0])))\n",
        "    DCTMatrix = createDCTMatrix(size)\n",
        "    DCTMatrixTranspose = np.transpose(DCTMatrix)\n",
        "    for i in range(0,len(img),size):\n",
        "        for j in range(0,len(img[0]),size):\n",
        "            block = createBlocks(img,i,j,size)\n",
        "            DCTOutput = (np.matmul(DCTMatrixTranspose,np.matmul(block,DCTMatrix)))\n",
        "            for x,u in zip(range(i,i+size),DCTOutput):\n",
        "                for y,v in zip(range(j,j+size),u):\n",
        "                    newImg[x][y] = v\n",
        "    return newImg"
      ],
      "execution_count": 7,
      "outputs": []
    },
    {
      "cell_type": "code",
      "metadata": {
        "id": "wP_nPdKbUSAI",
        "colab_type": "code",
        "colab": {}
      },
      "source": [
        "def createBlocks(img,x,y,blockSize):\n",
        "    blocks=[]\n",
        "    block=[]\n",
        "    for j in range(0,blockSize):\n",
        "        xblock=[]\n",
        "        for i in range(0,blockSize):\n",
        "            if((x+j < len(img)) and (y+i < len(img[0]))):\n",
        "                xblock.append(img[x+j][y+i])\n",
        "        block.append(xblock)\n",
        "    blocks.append(block)\n",
        "    return block"
      ],
      "execution_count": 8,
      "outputs": []
    },
    {
      "cell_type": "code",
      "metadata": {
        "id": "tIkcLGVtUUE0",
        "colab_type": "code",
        "colab": {}
      },
      "source": [
        "def createDCTMatrix(size):\n",
        "    matrix = np.zeros((size,size))\n",
        "    for i in range(0,len(matrix)):\n",
        "        for j in range(0,len(matrix[0])):\n",
        "            if(i == 0):\n",
        "                matrix[i][j] = (1/size) ** 0.5\n",
        "            else:\n",
        "                term = ((2*j)+1)*math.pi*i\n",
        "                term = term/(2*size)\n",
        "                matrix[i][j] = (((2/size) **0.5) * math.cos(term))\n",
        "    return matrix"
      ],
      "execution_count": 9,
      "outputs": []
    },
    {
      "cell_type": "code",
      "metadata": {
        "id": "kIAo7XxtUWly",
        "colab_type": "code",
        "colab": {}
      },
      "source": [
        "DCT_mdf1 = applyDCT(mdf1,8,4)"
      ],
      "execution_count": 10,
      "outputs": []
    },
    {
      "cell_type": "markdown",
      "metadata": {
        "id": "oIUAX5vvUbV_",
        "colab_type": "text"
      },
      "source": [
        "# Apply IDCT"
      ]
    },
    {
      "cell_type": "code",
      "metadata": {
        "id": "21b4UnuWUaBz",
        "colab_type": "code",
        "colab": {}
      },
      "source": [
        "def applyIDCT(img,size):\n",
        "    newImg = np.zeros((len(img),len(img[0])))\n",
        "    DCTMatrix = createDCTMatrix(size)\n",
        "    DCTMatrixTranspose = np.transpose(DCTMatrix)\n",
        "    for i in range(0,len(img),size):\n",
        "        for j in range(0,len(img[0]),size):\n",
        "            block = createBlocks(img,i,j,size)\n",
        "            IDCTOutput = (np.matmul(DCTMatrix,np.matmul(block,DCTMatrixTranspose)))\n",
        "            for x,u in zip(range(i,i+size),IDCTOutput):\n",
        "                for y,v in zip(range(j,j+size),u):\n",
        "                        newImg[x][y] = v\n",
        "    return newImg"
      ],
      "execution_count": 11,
      "outputs": []
    },
    {
      "cell_type": "code",
      "metadata": {
        "id": "El1tbpwEUfra",
        "colab_type": "code",
        "colab": {
          "base_uri": "https://localhost:8080/",
          "height": 34
        },
        "outputId": "db14401a-5e8f-4f1e-c956-826ff539aade"
      },
      "source": [
        "IDCT_mdf1 = applyIDCT(DCT_mdf1,8)\n",
        "cv2.imwrite(\"IDCT_mdf1.jpg\",IDCT_mdf1)"
      ],
      "execution_count": 12,
      "outputs": [
        {
          "output_type": "execute_result",
          "data": {
            "text/plain": [
              "True"
            ]
          },
          "metadata": {
            "tags": []
          },
          "execution_count": 12
        }
      ]
    },
    {
      "cell_type": "markdown",
      "metadata": {
        "id": "EXNwEAOHUjvj",
        "colab_type": "text"
      },
      "source": [
        "#Reconstruct the Image\n",
        "##### f2' = f1 + IDCT_df1"
      ]
    },
    {
      "cell_type": "code",
      "metadata": {
        "id": "RMY8_LDLUjMo",
        "colab_type": "code",
        "colab": {}
      },
      "source": [
        "IDCT_df1 = cv2.imread(\"IDCT_mdf1.jpg\",0)"
      ],
      "execution_count": 13,
      "outputs": []
    },
    {
      "cell_type": "code",
      "metadata": {
        "id": "vdySCzO0Unuf",
        "colab_type": "code",
        "colab": {}
      },
      "source": [
        "def add(img1,img2):\n",
        "    newImg = np.zeros((len(img1),len(img1[0])))\n",
        "    for i in range(0,min(len(img2),len(img1))):\n",
        "        for j in range(0,min(len(img2[0]),len(img1[0]))):\n",
        "            addition = (img1[i][j] + img2[i][j])\n",
        "            if(addition > 0 ):\n",
        "                newImg[i][j] = addition\n",
        "            else:\n",
        "                newImg[i][j] = 0\n",
        "    return newImg"
      ],
      "execution_count": 14,
      "outputs": []
    },
    {
      "cell_type": "code",
      "metadata": {
        "id": "BvILoyLUUqP-",
        "colab_type": "code",
        "colab": {
          "base_uri": "https://localhost:8080/",
          "height": 34
        },
        "outputId": "4ee79be4-3372-454a-9f90-8a791552d255"
      },
      "source": [
        "f2_ = add(v1_f1,IDCT_mdf1)\n",
        "cv2.imwrite(\"f2'.jpg\",f2_)"
      ],
      "execution_count": 15,
      "outputs": [
        {
          "output_type": "execute_result",
          "data": {
            "text/plain": [
              "True"
            ]
          },
          "metadata": {
            "tags": []
          },
          "execution_count": 15
        }
      ]
    }
  ]
}